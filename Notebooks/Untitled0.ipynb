{
 "cells": [
  {
   "cell_type": "code",
   "execution_count": 7,
   "metadata": {
    "id": "B7NFhOFNRecu"
   },
   "outputs": [],
   "source": [
    "import torch\n",
    "import torch.nn as nn\n",
    "import numpy as np\n",
    "import matplotlib.pyplot as plt\n",
    "from torchvision import datasets, transforms\n",
    "import torch.nn.functional as F\n",
    "from torch.utils.data.sampler import SubsetRandomSampler\n",
    "import torch.optim as optim"
   ]
  },
  {
   "cell_type": "code",
   "execution_count": 2,
   "metadata": {
    "colab": {
     "base_uri": "https://localhost:8080/"
    },
    "id": "_CfrwMEoRyN3",
    "outputId": "ac80deb9-843e-49e0-a1bd-f686fb21a583"
   },
   "outputs": [
    {
     "name": "stdout",
     "output_type": "stream",
     "text": [
      "Mounted at /content/drive\n"
     ]
    }
   ],
   "source": [
    "from google.colab import drive\n",
    "drive.mount('/content/drive')"
   ]
  },
  {
   "cell_type": "code",
   "execution_count": null,
   "metadata": {
    "colab": {
     "base_uri": "https://localhost:8080/"
    },
    "id": "IoBTTsLYSBoE",
    "outputId": "044c344b-0fa1-400e-ec94-ef8ec0936cdc"
   },
   "outputs": [],
   "source": [
    "!unzip '/content/drive/MyDrive/Colab Notebooks/hindisme/DevanagariHandwrittenCharacterDataset.zip' -d '/content/drive/MyDrive/Colab Notebooks/hindisme/'"
   ]
  },
  {
   "cell_type": "code",
   "execution_count": 4,
   "metadata": {
    "id": "SpGJFkxraDlZ"
   },
   "outputs": [],
   "source": [
    "# define training and test data directories\n",
    "data_dir = '/content/drive/MyDrive/Colab Notebooks/hindisme/DevanagariHandwrittenCharacterDataset/'\n",
    "train_dir = os.path.join(data_dir, 'Train/')\n",
    "test_dir = os.path.join(data_dir, 'Test/')"
   ]
  },
  {
   "cell_type": "code",
   "execution_count": 40,
   "metadata": {
    "colab": {
     "base_uri": "https://localhost:8080/"
    },
    "id": "YehjL97TazGX",
    "outputId": "7ad84add-4b85-4d16-8cd5-3487810265ce"
   },
   "outputs": [
    {
     "name": "stdout",
     "output_type": "stream",
     "text": [
      "46\n"
     ]
    },
    {
     "data": {
      "text/plain": [
       "['character_10_yna',\n",
       " 'character_11_taamatar',\n",
       " 'character_12_thaa',\n",
       " 'character_13_daa',\n",
       " 'character_14_dhaa',\n",
       " 'character_15_adna',\n",
       " 'character_16_tabala',\n",
       " 'character_17_tha',\n",
       " 'character_18_da',\n",
       " 'character_19_dha',\n",
       " 'character_1_ka',\n",
       " 'character_20_na',\n",
       " 'character_21_pa',\n",
       " 'character_22_pha',\n",
       " 'character_23_ba',\n",
       " 'character_24_bha',\n",
       " 'character_25_ma',\n",
       " 'character_26_yaw',\n",
       " 'character_27_ra',\n",
       " 'character_28_la',\n",
       " 'character_29_waw',\n",
       " 'character_2_kha',\n",
       " 'character_30_motosaw',\n",
       " 'character_31_petchiryakha',\n",
       " 'character_32_patalosaw',\n",
       " 'character_33_ha',\n",
       " 'character_34_chhya',\n",
       " 'character_35_tra',\n",
       " 'character_36_gya',\n",
       " 'character_3_ga',\n",
       " 'character_4_gha',\n",
       " 'character_5_kna',\n",
       " 'character_6_cha',\n",
       " 'character_7_chha',\n",
       " 'character_8_ja',\n",
       " 'character_9_jha',\n",
       " 'digit_0',\n",
       " 'digit_1',\n",
       " 'digit_2',\n",
       " 'digit_3',\n",
       " 'digit_4',\n",
       " 'digit_5',\n",
       " 'digit_6',\n",
       " 'digit_7',\n",
       " 'digit_8',\n",
       " 'digit_9']"
      ]
     },
     "execution_count": 40,
     "metadata": {
      "tags": []
     },
     "output_type": "execute_result"
    }
   ],
   "source": [
    "classes = os.listdir(train_dir)\n",
    "print(len(classes))\n",
    "classes"
   ]
  },
  {
   "cell_type": "code",
   "execution_count": 9,
   "metadata": {
    "colab": {
     "base_uri": "https://localhost:8080/"
    },
    "id": "aiN4SvmraL6W",
    "outputId": "8d0dcf3d-d02d-4e2d-c19d-4bd35519dc0b"
   },
   "outputs": [
    {
     "name": "stdout",
     "output_type": "stream",
     "text": [
      "Num training images:  78200\n",
      "Num test images:  13800\n"
     ]
    }
   ],
   "source": [
    "train_transform = transforms.Compose([\n",
    "    transforms.RandomRotation(10),\n",
    "    transforms.RandomAffine(degrees=45, translate=(0.1, 0.1), scale=(0.8, 1.2)),\n",
    "    transforms.RandomCrop(32),\n",
    "    transforms.ToTensor(),\n",
    "    transforms.Normalize((0.5, ), (0.5, ))\n",
    "])\n",
    "\n",
    "test_transform = transforms.Compose([\n",
    "    transforms.ToTensor(),\n",
    "    transforms.Normalize((0.5, ), (0.5, ))\n",
    "])\n",
    "\n",
    "train_data = datasets.ImageFolder(train_dir, transform=train_transform)\n",
    "test_data = datasets.ImageFolder(test_dir, transform=train_transform)\n",
    "\n",
    "# print out some data stats\n",
    "print('Num training images: ', len(train_data))\n",
    "print('Num test images: ', len(test_data))"
   ]
  },
  {
   "cell_type": "code",
   "execution_count": 10,
   "metadata": {
    "id": "wwsNn-m-bK7o"
   },
   "outputs": [],
   "source": [
    "batch_size = 32\n",
    "valid_size = 0.10\n",
    "\n",
    "num_train = len(train_data)\n",
    "split_point = int(valid_size * num_train)\n",
    "\n",
    "indices = list(range(num_train))\n",
    "np.random.shuffle(indices)\n",
    "\n",
    "valid_indices = indices[:split_point]\n",
    "train_indices = indices[split_point:]\n",
    "\n",
    "train_sampler = SubsetRandomSampler(train_indices)\n",
    "valid_sampler = SubsetRandomSampler(valid_indices)"
   ]
  },
  {
   "cell_type": "code",
   "execution_count": 11,
   "metadata": {
    "id": "Dz-n-cTFD3sx"
   },
   "outputs": [],
   "source": [
    "train_loader = torch.utils.data.DataLoader(train_data, batch_size=batch_size, sampler=train_sampler)\n",
    "valid_loader = torch.utils.data.DataLoader(train_data, batch_size=batch_size, sampler=valid_sampler)\n",
    "test_loader = torch.utils.data.DataLoader(test_data, batch_size=batch_size, shuffle=True)"
   ]
  },
  {
   "cell_type": "code",
   "execution_count": 12,
   "metadata": {
    "colab": {
     "base_uri": "https://localhost:8080/"
    },
    "id": "7lE3bx4GbN_k",
    "outputId": "f830cc6c-e790-4029-a79b-9686dff31819"
   },
   "outputs": [
    {
     "data": {
      "text/plain": [
       "torch.Size([32, 3, 32, 32])"
      ]
     },
     "execution_count": 12,
     "metadata": {
      "tags": []
     },
     "output_type": "execute_result"
    }
   ],
   "source": [
    "# checking batch\n",
    "examples = enumerate(train_loader)\n",
    "batch_idx, (example_data, example_targets) = next(examples)\n",
    "example_data.shape"
   ]
  },
  {
   "cell_type": "code",
   "execution_count": 16,
   "metadata": {
    "colab": {
     "base_uri": "https://localhost:8080/",
     "height": 225
    },
    "id": "v6TWYvFHEANu",
    "outputId": "0ddc15a9-a3eb-4886-920e-d02f917378dc"
   },
   "outputs": [
    {
     "data": {
      "image/png": "[encoded data removed]",
      "text/plain": [
       "<Figure size 1800x288 with 20 Axes>"
      ]
     },
     "metadata": {
      "tags": []
     },
     "output_type": "display_data"
    }
   ],
   "source": [
    " train_on_gpu = torch.cuda.is_available()\n",
    " # obtain one batch of test images\n",
    "dataiter = iter(test_loader)\n",
    "images, labels = dataiter.next()\n",
    "images.numpy()\n",
    "\n",
    "# move model inputs to cuda, if GPU available\n",
    "if train_on_gpu:\n",
    "    images = images.cuda()\n",
    "\n",
    "\n",
    "# plot the images in the batch, along with predicted labels\n",
    "fig = plt.figure(figsize=(25, 4))\n",
    "for idx in np.arange(20):\n",
    "    ax = fig.add_subplot(2, 20/2, idx+1, xticks=[], yticks=[])\n",
    "    img = images.cpu()[idx]\n",
    "    img = img * 0.5 + 0.5\n",
    "    img = np.transpose(img, (1, 2, 0))\n",
    "    # img = torchvision.transforms.ToTensor()(img)\n",
    "    plt.imshow(img)\n",
    "    ax.set_title(test_data.classes[labels[idx].item()])"
   ]
  },
  {
   "cell_type": "markdown",
   "metadata": {
    "id": "8sPU05rAGLxx"
   },
   "source": [
    "# CNN"
   ]
  },
  {
   "cell_type": "code",
   "execution_count": 17,
   "metadata": {
    "colab": {
     "base_uri": "https://localhost:8080/"
    },
    "id": "zKRkJ-PhEAQQ",
    "outputId": "7c5f0423-39a1-4088-d241-15ef93edc450"
   },
   "outputs": [
    {
     "name": "stdout",
     "output_type": "stream",
     "text": [
      "Input image is of size: 32x32\n",
      "First Conv sees: 32x32\n",
      "Second Conv sees: 28.0x28.0\n",
      "Third Conv sees: 24.0x24.0\n",
      "Fourth Conv sees: 20.0x20.0\n"
     ]
    }
   ],
   "source": [
    "def output(input_volume, kernel_size, padding, stride=1):\n",
    "    return ((input_volume - kernel_size + 2 * padding)/stride) + 1\n",
    "\n",
    "input_size = 32\n",
    "print(\"Input image is of size: {}x{}\".format(input_size, input_size))\n",
    "print(\"First Conv sees: {}x{}\".format(input_size, input_size))\n",
    "input_size = output(input_volume=input_size, kernel_size=5, padding=0, stride=1)\n",
    "print(\"Second Conv sees: {}x{}\".format(input_size, input_size))\n",
    "input_size = output(input_volume=input_size, kernel_size=5, padding=0, stride=1)\n",
    "print(\"Third Conv sees: {}x{}\".format(input_size, input_size))\n",
    "input_size = output(input_volume=input_size, kernel_size=5, padding=0, stride=1)\n",
    "print(\"Fourth Conv sees: {}x{}\".format(input_size, input_size))"
   ]
  },
  {
   "cell_type": "code",
   "execution_count": 24,
   "metadata": {
    "id": "ORbr39G8EATC"
   },
   "outputs": [],
   "source": [
    "class Network(nn.Module):\n",
    "    \n",
    "    def __init__(self):\n",
    "        super().__init__()\n",
    "        \n",
    "        # First layer sees: 32x32x3\n",
    "        self.conv1 = nn.Conv2d(in_channels=3, out_channels=16, \n",
    "                    kernel_size=5, stride=1, padding=0)\n",
    "        \n",
    "        # Second layer sees: 28x28x16\n",
    "        self.conv2 = nn.Conv2d(in_channels=16, out_channels=32, \n",
    "                    kernel_size=5, stride=1, padding=0)\n",
    "        \n",
    "        # Third layer sees: 24x24x32\n",
    "        self.conv3 = nn.Conv2d(in_channels=32, out_channels=64, \n",
    "                    kernel_size=5, stride=1, padding=0)\n",
    "        \n",
    "        # This layer output 20 x 20 x 64\n",
    "        \n",
    "        self.fc1 = nn.Linear(20*20*64, 1000)\n",
    "        self.fc2 = nn.Linear(1000, 46)\n",
    "        self.dropout = nn.Dropout(p=0.25)\n",
    "    \n",
    "    def forward(self, x):\n",
    "        \n",
    "        x = F.relu(self.conv1(x))\n",
    "        x = F.relu(self.conv2(x))\n",
    "        x = F.relu(self.conv3(x))\n",
    "        \n",
    "        x = x.view(-1, 20*20*64)\n",
    "        \n",
    "        x = self.dropout(x)\n",
    "        x = F.relu(self.fc1(x))\n",
    "        x = self.dropout(x)\n",
    "        x = self.fc2(x)\n",
    "        \n",
    "        return x"
   ]
  },
  {
   "cell_type": "code",
   "execution_count": 25,
   "metadata": {
    "colab": {
     "base_uri": "https://localhost:8080/"
    },
    "id": "kUY2-fb6Gh4c",
    "outputId": "e12546cb-d9d8-4b4d-cf45-50691b965f36"
   },
   "outputs": [
    {
     "data": {
      "text/plain": [
       "True"
      ]
     },
     "execution_count": 25,
     "metadata": {
      "tags": []
     },
     "output_type": "execute_result"
    }
   ],
   "source": [
    "train_on_gpu = True if torch.cuda.is_available() else False\n",
    "train_on_gpu"
   ]
  },
  {
   "cell_type": "code",
   "execution_count": 26,
   "metadata": {
    "colab": {
     "base_uri": "https://localhost:8080/"
    },
    "id": "mK76K4sdGiAW",
    "outputId": "dee35435-2e6b-482b-dcac-1411f713d7f8"
   },
   "outputs": [
    {
     "name": "stdout",
     "output_type": "stream",
     "text": [
      "Training on GPU...\n"
     ]
    }
   ],
   "source": [
    "dhcd_model = Network()\n",
    "\n",
    "if train_on_gpu:\n",
    "  print(\"Training on GPU...\")\n",
    "  dhcd_model.cuda()"
   ]
  },
  {
   "cell_type": "code",
   "execution_count": 27,
   "metadata": {
    "id": "g14bGHgwHTEw"
   },
   "outputs": [],
   "source": [
    "criterion = nn.CrossEntropyLoss()\n",
    "optimizer = optim.SGD(dhcd_model.parameters(), lr=0.001, momentum=0.9)"
   ]
  },
  {
   "cell_type": "code",
   "execution_count": 28,
   "metadata": {
    "colab": {
     "base_uri": "https://localhost:8080/"
    },
    "id": "eAogA2hMHUU-",
    "outputId": "1963326d-5019-4f5d-88ee-b18b19db895e"
   },
   "outputs": [
    {
     "name": "stdout",
     "output_type": "stream",
     "text": [
      "Epoch: 1 Train Loss: 2.7598397448929872 Valid Loss: 1.6858646835599627\n",
      "Validation Loss Decreased From inf to 1.6858646835599627\n",
      "Saving Best Model\n",
      "Epoch: 2 Train Loss: 1.3158283732966942 Valid Loss: 0.8288603165928199\n",
      "Validation Loss Decreased From 1.6858646835599627 to 0.8288603165928199\n",
      "Saving Best Model\n",
      "Epoch: 3 Train Loss: 0.8085310150987722 Valid Loss: 0.5615909879913136\n",
      "Validation Loss Decreased From 0.8288603165928199 to 0.5615909879913136\n",
      "Saving Best Model\n",
      "Epoch: 4 Train Loss: 0.6161744177307595 Valid Loss: 0.4758493216670289\n",
      "Validation Loss Decreased From 0.5615909879913136 to 0.4758493216670289\n",
      "Saving Best Model\n",
      "Epoch: 5 Train Loss: 0.5087165210396052 Valid Loss: 0.3563966148361868\n",
      "Validation Loss Decreased From 0.4758493216670289 to 0.3563966148361868\n",
      "Saving Best Model\n",
      "Epoch: 6 Train Loss: 0.4285614411312748 Valid Loss: 0.3289354109642457\n",
      "Validation Loss Decreased From 0.3563966148361868 to 0.3289354109642457\n",
      "Saving Best Model\n",
      "Epoch: 7 Train Loss: 0.386881397373297 Valid Loss: 0.3002367415598461\n",
      "Validation Loss Decreased From 0.3289354109642457 to 0.3002367415598461\n",
      "Saving Best Model\n",
      "Epoch: 8 Train Loss: 0.35141669418493454 Valid Loss: 0.26057889324004707\n",
      "Validation Loss Decreased From 0.3002367415598461 to 0.26057889324004707\n",
      "Saving Best Model\n",
      "Epoch: 9 Train Loss: 0.3253875556029379 Valid Loss: 0.2434312192685142\n",
      "Validation Loss Decreased From 0.26057889324004707 to 0.2434312192685142\n",
      "Saving Best Model\n",
      "Epoch: 10 Train Loss: 0.2984139580216089 Valid Loss: 0.2314536859870565\n",
      "Validation Loss Decreased From 0.2434312192685142 to 0.2314536859870565\n",
      "Saving Best Model\n",
      "Epoch: 11 Train Loss: 0.28276405520652503 Valid Loss: 0.21782659733173798\n",
      "Validation Loss Decreased From 0.2314536859870565 to 0.21782659733173798\n",
      "Saving Best Model\n",
      "Epoch: 12 Train Loss: 0.27063644166231493 Valid Loss: 0.20242947344953308\n",
      "Validation Loss Decreased From 0.21782659733173798 to 0.20242947344953308\n",
      "Saving Best Model\n",
      "Epoch: 13 Train Loss: 0.2536855847964233 Valid Loss: 0.1975202024743265\n",
      "Validation Loss Decreased From 0.20242947344953308 to 0.1975202024743265\n",
      "Saving Best Model\n",
      "Epoch: 14 Train Loss: 0.24140651995908807 Valid Loss: 0.20213874909950763\n",
      "Epoch: 15 Train Loss: 0.2273884801867164 Valid Loss: 0.17276540274674795\n",
      "Validation Loss Decreased From 0.1975202024743265 to 0.17276540274674795\n",
      "Saving Best Model\n",
      "Epoch: 16 Train Loss: 0.22319921146612615 Valid Loss: 0.19070405114290057\n",
      "Epoch: 17 Train Loss: 0.21057269558966668 Valid Loss: 0.1709648516143159\n",
      "Validation Loss Decreased From 0.17276540274674795 to 0.1709648516143159\n",
      "Saving Best Model\n",
      "Epoch: 18 Train Loss: 0.20176184849707748 Valid Loss: 0.16663229820527592\n",
      "Validation Loss Decreased From 0.1709648516143159 to 0.16663229820527592\n",
      "Saving Best Model\n",
      "Epoch: 19 Train Loss: 0.2001149293365465 Valid Loss: 0.14837632657846017\n",
      "Validation Loss Decreased From 0.16663229820527592 to 0.14837632657846017\n",
      "Saving Best Model\n",
      "Epoch: 20 Train Loss: 0.1916395331963643 Valid Loss: 0.15291916341805945\n",
      "Epoch: 21 Train Loss: 0.18637493783163583 Valid Loss: 0.1543516042110111\n",
      "Epoch: 22 Train Loss: 0.18036244991044936 Valid Loss: 0.1558187811521395\n",
      "Epoch: 23 Train Loss: 0.17475536490917545 Valid Loss: 0.12992205092569395\n",
      "Validation Loss Decreased From 0.14837632657846017 to 0.12992205092569395\n",
      "Saving Best Model\n",
      "Epoch: 24 Train Loss: 0.17095515880088152 Valid Loss: 0.1361512884117511\n",
      "Epoch: 25 Train Loss: 0.1706245566862212 Valid Loss: 0.13790693983853775\n",
      "Epoch: 26 Train Loss: 0.16619105435071768 Valid Loss: 0.12660268188967388\n",
      "Validation Loss Decreased From 0.12992205092569395 to 0.12660268188967388\n",
      "Saving Best Model\n",
      "Epoch: 27 Train Loss: 0.15852913199606436 Valid Loss: 0.1355220351045077\n",
      "Epoch: 28 Train Loss: 0.15348141349576921 Valid Loss: 0.11994829963398528\n",
      "Validation Loss Decreased From 0.12660268188967388 to 0.11994829963398528\n",
      "Saving Best Model\n",
      "Epoch: 29 Train Loss: 0.15681805626108228 Valid Loss: 0.12326973659575594\n",
      "Epoch: 30 Train Loss: 0.1515202038957928 Valid Loss: 0.12733701576611825\n",
      "Epoch: 31 Train Loss: 0.1474803960096853 Valid Loss: 0.11870383033481408\n",
      "Validation Loss Decreased From 0.11994829963398528 to 0.11870383033481408\n",
      "Saving Best Model\n",
      "Epoch: 32 Train Loss: 0.14607652637022758 Valid Loss: 0.11286955070966968\n",
      "Validation Loss Decreased From 0.11870383033481408 to 0.11286955070966968\n",
      "Saving Best Model\n",
      "Epoch: 33 Train Loss: 0.14035450612522915 Valid Loss: 0.11803983952945137\n",
      "Epoch: 34 Train Loss: 0.14065977999834683 Valid Loss: 0.11843853992010867\n",
      "Epoch: 35 Train Loss: 0.1382118754973635 Valid Loss: 0.11954575191793622\n",
      "Epoch: 36 Train Loss: 0.134594165335875 Valid Loss: 0.11925497101809905\n",
      "Epoch: 37 Train Loss: 0.13606015333366073 Valid Loss: 0.10890580378995486\n",
      "Validation Loss Decreased From 0.11286955070966968 to 0.10890580378995486\n",
      "Saving Best Model\n",
      "Epoch: 38 Train Loss: 0.1302599419130605 Valid Loss: 0.1056804976197986\n",
      "Validation Loss Decreased From 0.10890580378995486 to 0.1056804976197986\n",
      "Saving Best Model\n",
      "Epoch: 39 Train Loss: 0.13125693771966987 Valid Loss: 0.09776592485188526\n",
      "Validation Loss Decreased From 0.1056804976197986 to 0.09776592485188526\n",
      "Saving Best Model\n",
      "Epoch: 40 Train Loss: 0.12954248020838185 Valid Loss: 0.111934545119198\n",
      "Epoch: 41 Train Loss: 0.12373979991471226 Valid Loss: 0.11784125440278832\n",
      "Epoch: 42 Train Loss: 0.1208577755055475 Valid Loss: 0.10471860552444218\n",
      "Epoch: 43 Train Loss: 0.12493056443138895 Valid Loss: 0.09541756442881057\n",
      "Validation Loss Decreased From 0.09776592485188526 to 0.09541756442881057\n",
      "Saving Best Model\n",
      "Epoch: 44 Train Loss: 0.1200655867532954 Valid Loss: 0.10191811697429275\n",
      "Epoch: 45 Train Loss: 0.12048255149243314 Valid Loss: 0.10783573532743114\n",
      "Epoch: 46 Train Loss: 0.11985330994627227 Valid Loss: 0.10022501281595655\n",
      "Epoch: 47 Train Loss: 0.11257814660287377 Valid Loss: 0.10852042400629773\n",
      "Epoch: 48 Train Loss: 0.11341925078537315 Valid Loss: 0.09255114293334131\n",
      "Validation Loss Decreased From 0.09541756442881057 to 0.09255114293334131\n",
      "Saving Best Model\n",
      "Epoch: 49 Train Loss: 0.1100011782028543 Valid Loss: 0.09436947607663365\n",
      "Epoch: 50 Train Loss: 0.11333116869696162 Valid Loss: 0.09315640867630742\n",
      "Epoch: 51 Train Loss: 0.1094320230196701 Valid Loss: 0.0980071622650234\n",
      "Epoch: 52 Train Loss: 0.11062270759753036 Valid Loss: 0.09460338580051475\n",
      "Epoch: 53 Train Loss: 0.10597850463649428 Valid Loss: 0.09251421295410517\n",
      "Validation Loss Decreased From 0.09255114293334131 to 0.09251421295410517\n",
      "Saving Best Model\n",
      "Epoch: 54 Train Loss: 0.10818504739679735 Valid Loss: 0.08420331048760182\n",
      "Validation Loss Decreased From 0.09251421295410517 to 0.08420331048760182\n",
      "Saving Best Model\n",
      "Epoch: 55 Train Loss: 0.1027539883784828 Valid Loss: 0.09839490198587277\n"
     ]
    }
   ],
   "source": [
    "n_epochs = 55\n",
    "train_losses = []\n",
    "valid_losses = []\n",
    "valid_loss_min = np.inf\n",
    "\n",
    "for e in range(n_epochs):\n",
    "    train_loss = 0\n",
    "    valid_loss = 0\n",
    "    \n",
    "    dhcd_model.train()\n",
    "    \n",
    "    for img, label in train_loader:\n",
    "        \n",
    "        if train_on_gpu:\n",
    "            img = img.cuda()\n",
    "            label = label.cuda()\n",
    "        \n",
    "        optimizer.zero_grad()\n",
    "        \n",
    "        predicted_label = dhcd_model(img)\n",
    "        loss = criterion(predicted_label, label)\n",
    "        loss.backward()\n",
    "        optimizer.step()\n",
    "        train_loss = train_loss + loss.item()\n",
    "    \n",
    "    dhcd_model.eval()\n",
    "    \n",
    "    for img, label in valid_loader:\n",
    "        \n",
    "        if train_on_gpu:\n",
    "            img = img.cuda()\n",
    "            label = label.cuda()\n",
    "        predicted_label = dhcd_model(img)\n",
    "        loss = criterion(predicted_label, label)\n",
    "        \n",
    "        valid_loss = valid_loss + loss.item()\n",
    "    \n",
    "    train_loss = train_loss/len(train_loader)\n",
    "    train_losses.append(train_loss)\n",
    "    valid_loss = valid_loss/len(valid_loader)\n",
    "    valid_losses.append(valid_loss)\n",
    "    \n",
    "    print(\"Epoch: {} Train Loss: {} Valid Loss: {}\".format(e+1, train_loss, valid_loss))\n",
    "    \n",
    "    if valid_loss < valid_loss_min:\n",
    "        print(\"Validation Loss Decreased From {} to {}\".format(valid_loss_min, valid_loss))\n",
    "        valid_loss_min = valid_loss\n",
    "        torch.save(dhcd_model.state_dict(), \"dhcd_model_8_March_2020.pth\")\n",
    "        print(\"Saving Best Model\")\n",
    "    \n",
    "        "
   ]
  },
  {
   "cell_type": "code",
   "execution_count": 29,
   "metadata": {
    "id": "JR4NJzFAHUZq"
   },
   "outputs": [],
   "source": [
    "torch.save(dhcd_model.state_dict(), \"/content/drive/MyDrive/Colab Notebooks/hindisme/model_98.pt\")"
   ]
  },
  {
   "cell_type": "code",
   "execution_count": 30,
   "metadata": {
    "colab": {
     "base_uri": "https://localhost:8080/"
    },
    "id": "ARcly7v-ntbs",
    "outputId": "d6373f1c-49b2-4c1a-de90-f06cf532b400"
   },
   "outputs": [
    {
     "data": {
      "text/plain": [
       "<All keys matched successfully>"
      ]
     },
     "execution_count": 30,
     "metadata": {
      "tags": []
     },
     "output_type": "execute_result"
    }
   ],
   "source": [
    "dhcd_model.load_state_dict(torch.load(\"dhcd_model_8_March_2020.pth\"))"
   ]
  },
  {
   "cell_type": "code",
   "execution_count": 31,
   "metadata": {
    "id": "3zglZAmxoPil"
   },
   "outputs": [],
   "source": [
    "torch.save(dhcd_model.state_dict(), \"/content/drive/MyDrive/Colab Notebooks/hindisme/model_best84.pt\")"
   ]
  },
  {
   "cell_type": "code",
   "execution_count": 32,
   "metadata": {
    "colab": {
     "base_uri": "https://localhost:8080/"
    },
    "id": "IeQQToA8oVlZ",
    "outputId": "984a9679-9908-44e8-db38-feb0a60deb62"
   },
   "outputs": [
    {
     "name": "stdout",
     "output_type": "stream",
     "text": [
      "Epoch: 1 Test Loss: 0.09512086537735606 Accuracy: 0.9704861044883728\n",
      "Epoch: 2 Test Loss: 0.08639978362984804 Accuracy: 0.9770728945732117\n",
      "Epoch: 3 Test Loss: 0.09575039095839864 Accuracy: 0.9736159443855286\n",
      "Epoch: 4 Test Loss: 0.08730427612836235 Accuracy: 0.9769355058670044\n",
      "Epoch: 5 Test Loss: 0.09488927255920337 Accuracy: 0.9742665886878967\n",
      "Epoch: 6 Test Loss: 0.09196655796963832 Accuracy: 0.9736817479133606\n",
      "Epoch: 7 Test Loss: 0.09549767536335668 Accuracy: 0.9731017351150513\n",
      "Epoch: 8 Test Loss: 0.08697483851602907 Accuracy: 0.9751980900764465\n",
      "Epoch: 9 Test Loss: 0.0905381959040561 Accuracy: 0.974841296672821\n",
      "Epoch: 10 Test Loss: 0.08918680040609173 Accuracy: 0.9770829677581787\n",
      "Epoch: 11 Test Loss: 0.09485485181343341 Accuracy: 0.9736882448196411\n",
      "Epoch: 12 Test Loss: 0.0950339435891891 Accuracy: 0.9746208190917969\n",
      "Epoch: 13 Test Loss: 0.0818597325041523 Accuracy: 0.9765037298202515\n",
      "Epoch: 14 Test Loss: 0.09197546769426396 Accuracy: 0.9752060174942017\n",
      "Epoch: 15 Test Loss: 0.08314909283313272 Accuracy: 0.9776625633239746\n",
      "Epoch: 16 Test Loss: 0.08996103306137654 Accuracy: 0.9748470187187195\n",
      "Epoch: 17 Test Loss: 0.08744061860268454 Accuracy: 0.9763596057891846\n",
      "Epoch: 18 Test Loss: 0.09213297910792717 Accuracy: 0.9752780795097351\n",
      "Epoch: 19 Test Loss: 0.08480179724367141 Accuracy: 0.9757095575332642\n",
      "Epoch: 20 Test Loss: 0.08743125197135054 Accuracy: 0.9763615727424622\n",
      "Epoch: 21 Test Loss: 0.09490163005984682 Accuracy: 0.974554717540741\n",
      "Epoch: 22 Test Loss: 0.0899431254029678 Accuracy: 0.975273847579956\n",
      "Epoch: 23 Test Loss: 0.08426938368634662 Accuracy: 0.9762158989906311\n",
      "Epoch: 24 Test Loss: 0.08178272749230864 Accuracy: 0.9775201082229614\n",
      "Epoch: 25 Test Loss: 0.08629677109919223 Accuracy: 0.9760764837265015\n",
      "Epoch: 26 Test Loss: 0.09141179303716863 Accuracy: 0.9737582802772522\n",
      "Epoch: 27 Test Loss: 0.08432091699032125 Accuracy: 0.977225124835968\n",
      "Epoch: 28 Test Loss: 0.09107424758923469 Accuracy: 0.9751353859901428\n",
      "Epoch: 29 Test Loss: 0.09245298347480278 Accuracy: 0.974551796913147\n",
      "Epoch: 30 Test Loss: 0.09253197724572636 Accuracy: 0.9745504856109619\n",
      "Epoch: 31 Test Loss: 0.08840210116457839 Accuracy: 0.9759249091148376\n",
      "Epoch: 32 Test Loss: 0.08694801701866582 Accuracy: 0.975059986114502\n",
      "Epoch: 33 Test Loss: 0.08866372729435358 Accuracy: 0.9756367206573486\n",
      "Epoch: 34 Test Loss: 0.09382556104972777 Accuracy: 0.9739742875099182\n",
      "Epoch: 35 Test Loss: 0.09154315016604174 Accuracy: 0.9736810326576233\n",
      "Epoch: 36 Test Loss: 0.09641080511810206 Accuracy: 0.9742591381072998\n",
      "Epoch: 37 Test Loss: 0.09561598002658019 Accuracy: 0.9743327498435974\n",
      "Epoch: 38 Test Loss: 0.08695032479425768 Accuracy: 0.9759243726730347\n",
      "Epoch: 39 Test Loss: 0.08924440073469624 Accuracy: 0.975421667098999\n",
      "Epoch: 40 Test Loss: 0.08991332431597707 Accuracy: 0.9748417735099792\n",
      "Epoch: 41 Test Loss: 0.08546157787682332 Accuracy: 0.9768660068511963\n",
      "Epoch: 42 Test Loss: 0.09291522196767055 Accuracy: 0.9760749340057373\n",
      "Epoch: 43 Test Loss: 0.09241234795500389 Accuracy: 0.9743369817733765\n",
      "Epoch: 44 Test Loss: 0.08804470002755682 Accuracy: 0.9752733707427979\n",
      "Epoch: 45 Test Loss: 0.09436225319880785 Accuracy: 0.9748415350914001\n",
      "Epoch: 46 Test Loss: 0.09188245077555257 Accuracy: 0.9752745628356934\n",
      "Epoch: 47 Test Loss: 0.08626326563840164 Accuracy: 0.9759265780448914\n",
      "Epoch: 48 Test Loss: 0.08222138351603595 Accuracy: 0.976506769657135\n",
      "Epoch: 49 Test Loss: 0.09080493400943386 Accuracy: 0.9757123589515686\n",
      "Epoch: 50 Test Loss: 0.08710731207443555 Accuracy: 0.9765062928199768\n",
      "______________________\n",
      "Average Accuracy: 97.528%\n",
      "______________________\n"
     ]
    }
   ],
   "source": [
    "n_epochs = 50\n",
    "avg_accuracy = 0\n",
    "total_accuracy = 0\n",
    "test_loss = 0\n",
    "accuracy = 0\n",
    "dhcd_model.eval()\n",
    "\n",
    "for epoch in range(n_epochs):\n",
    "    \n",
    "    for img, label in test_loader:\n",
    "        if train_on_gpu:\n",
    "            img = img.cuda()\n",
    "            label = label.cuda()\n",
    "        predicted_label = dhcd_model(img)\n",
    "        loss = criterion(predicted_label, label)\n",
    "        test_loss = test_loss + loss.item()\n",
    "\n",
    "        top_probab, top_label = predicted_label.topk(1, dim=1)\n",
    "        equals = top_label == label.view(*top_label.shape)\n",
    "        accuracy = accuracy + torch.mean(equals.type(torch.FloatTensor))\n",
    "\n",
    "    test_loss = test_loss/len(test_loader)\n",
    "    accuracy = accuracy/len(test_loader)\n",
    "    total_accuracy = total_accuracy + accuracy\n",
    "\n",
    "    print(\"Epoch: {} Test Loss: {} Accuracy: {}\".format(epoch+1, test_loss, accuracy))\n",
    "\n",
    "avg_accuracy = total_accuracy/(n_epochs) * 100\n",
    "print(\"______________________\\nAverage Accuracy: {:.3f}%\\n______________________\".format(avg_accuracy))"
   ]
  },
  {
   "cell_type": "code",
   "execution_count": 33,
   "metadata": {
    "colab": {
     "base_uri": "https://localhost:8080/",
     "height": 283
    },
    "id": "mCSs5xaQslTG",
    "outputId": "697013c4-1b42-4a4f-9f5d-7c7628985011"
   },
   "outputs": [
    {
     "data": {
      "text/plain": [
       "<matplotlib.legend.Legend at 0x7ff9b6fefdd0>"
      ]
     },
     "execution_count": 33,
     "metadata": {
      "tags": []
     },
     "output_type": "execute_result"
    },
    {
     "data": {
      "image/png": "[encoded data removed]",
      "text/plain": [
       "<Figure size 432x288 with 1 Axes>"
      ]
     },
     "metadata": {
      "needs_background": "light",
      "tags": []
     },
     "output_type": "display_data"
    }
   ],
   "source": [
    "fig, axes = plt.subplots(nrows=1, ncols=1)\n",
    "axes.plot(train_losses, label=\"Training\")\n",
    "axes.plot(valid_losses, label=\"Validating\")\n",
    "axes.legend(frameon=False)"
   ]
  },
  {
   "cell_type": "code",
   "execution_count": 35,
   "metadata": {
    "colab": {
     "base_uri": "https://localhost:8080/"
    },
    "id": "gqQ4ublxsyog",
    "outputId": "90cffdd6-d060-4b41-e764-4cbd3437d3ba"
   },
   "outputs": [
    {
     "name": "stdout",
     "output_type": "stream",
     "text": [
      "train : \n",
      "[2.7598397448929872, 1.3158283732966942, 0.8085310150987722, 0.6161744177307595, 0.5087165210396052, 0.4285614411312748, 0.386881397373297, 0.35141669418493454, 0.3253875556029379, 0.2984139580216089, 0.28276405520652503, 0.27063644166231493, 0.2536855847964233, 0.24140651995908807, 0.2273884801867164, 0.22319921146612615, 0.21057269558966668, 0.20176184849707748, 0.2001149293365465, 0.1916395331963643, 0.18637493783163583, 0.18036244991044936, 0.17475536490917545, 0.17095515880088152, 0.1706245566862212, 0.16619105435071768, 0.15852913199606436, 0.15348141349576921, 0.15681805626108228, 0.1515202038957928, 0.1474803960096853, 0.14607652637022758, 0.14035450612522915, 0.14065977999834683, 0.1382118754973635, 0.134594165335875, 0.13606015333366073, 0.1302599419130605, 0.13125693771966987, 0.12954248020838185, 0.12373979991471226, 0.1208577755055475, 0.12493056443138895, 0.1200655867532954, 0.12048255149243314, 0.11985330994627227, 0.11257814660287377, 0.11341925078537315, 0.1100011782028543, 0.11333116869696162, 0.1094320230196701, 0.11062270759753036, 0.10597850463649428, 0.10818504739679735, 0.1027539883784828]\n",
      "val : \n",
      "[1.6858646835599627, 0.8288603165928199, 0.5615909879913136, 0.4758493216670289, 0.3563966148361868, 0.3289354109642457, 0.3002367415598461, 0.26057889324004707, 0.2434312192685142, 0.2314536859870565, 0.21782659733173798, 0.20242947344953308, 0.1975202024743265, 0.20213874909950763, 0.17276540274674795, 0.19070405114290057, 0.1709648516143159, 0.16663229820527592, 0.14837632657846017, 0.15291916341805945, 0.1543516042110111, 0.1558187811521395, 0.12992205092569395, 0.1361512884117511, 0.13790693983853775, 0.12660268188967388, 0.1355220351045077, 0.11994829963398528, 0.12326973659575594, 0.12733701576611825, 0.11870383033481408, 0.11286955070966968, 0.11803983952945137, 0.11843853992010867, 0.11954575191793622, 0.11925497101809905, 0.10890580378995486, 0.1056804976197986, 0.09776592485188526, 0.111934545119198, 0.11784125440278832, 0.10471860552444218, 0.09541756442881057, 0.10191811697429275, 0.10783573532743114, 0.10022501281595655, 0.10852042400629773, 0.09255114293334131, 0.09436947607663365, 0.09315640867630742, 0.0980071622650234, 0.09460338580051475, 0.09251421295410517, 0.08420331048760182, 0.09839490198587277]\n"
     ]
    }
   ],
   "source": [
    "print('train : ')\n",
    "print(train_losses)\n",
    "print('val : ')\n",
    "print(valid_losses)"
   ]
  },
  {
   "cell_type": "code",
   "execution_count": 36,
   "metadata": {
    "colab": {
     "base_uri": "https://localhost:8080/",
     "height": 211
    },
    "id": "vOUJ-oY4slda",
    "outputId": "926ef498-95dd-4d74-f5a1-96e331b98ada"
   },
   "outputs": [
    {
     "data": {
      "image/png": "[encoded data removed]",
      "text/plain": [
       "<Figure size 1800x288 with 16 Axes>"
      ]
     },
     "metadata": {
      "tags": []
     },
     "output_type": "display_data"
    }
   ],
   "source": [
    "# obtain one batch of test images\n",
    "dataiter = iter(test_loader)\n",
    "images, labels = dataiter.next()\n",
    "images.numpy()\n",
    "\n",
    "# move model inputs to cuda, if GPU available\n",
    "if train_on_gpu:\n",
    "    images = images.cuda()\n",
    "\n",
    "# get sample outputs\n",
    "output = dhcd_model(images)\n",
    "# convert output probabilities to predicted class\n",
    "_, preds_tensor = torch.max(output, 1)\n",
    "preds = np.squeeze( \n",
    "    preds_tensor.numpy()) if not train_on_gpu else np.squeeze(\n",
    "         preds_tensor.cpu().numpy())\n",
    "\n",
    "\n",
    "\n",
    "# plot the images in the batch, along with predicted and true labels\n",
    "fig = plt.figure(figsize=(25, 4))\n",
    "for idx in np.arange(16):\n",
    "    ax = fig.add_subplot(2, 20/2, idx+1, xticks=[], yticks=[])\n",
    "    img = images.cpu()[idx]\n",
    "    img = img * 0.5 + 0.5\n",
    "    img = np.transpose(img, (1, 2, 0))\n",
    "    plt.imshow(img)\n",
    "    ax.set_title(\"{} ({})\".format(train_data.classes[preds[idx].item()], \n",
    "                train_data.classes[labels[idx].item()]),\n",
    "                 color=(\"green\" if preds[idx]==labels[idx].item() else \"red\")) "
   ]
  },
  {
   "cell_type": "code",
   "execution_count": 38,
   "metadata": {
    "colab": {
     "base_uri": "https://localhost:8080/"
    },
    "id": "Heom64Y_tpbg",
    "outputId": "a5a9de2c-72cb-440b-a2f3-df50ca744a42"
   },
   "outputs": [
    {
     "data": {
      "text/plain": [
       "array([31, 33, 30, 31, 45, 21, 19, 14, 18, 43,  0,  3,  9, 17, 28, 40, 44,\n",
       "       25, 40, 33, 38, 21,  1, 20, 44, 38, 31, 10, 25, 20, 14, 25])"
      ]
     },
     "execution_count": 38,
     "metadata": {
      "tags": []
     },
     "output_type": "execute_result"
    }
   ],
   "source": [
    "# obtain one batch of test images\n",
    "dataiter = iter(test_loader)\n",
    "images, labels = dataiter.next()\n",
    "images.numpy()\n",
    "\n",
    "# move model inputs to cuda, if GPU available\n",
    "images = images.cuda()\n",
    "\n",
    "# get sample outputs\n",
    "output = dhcd_model(images)\n",
    "# convert output probabilities to predicted class\n",
    "_, preds_tensor = torch.max(output, 1)\n",
    "# preds = np.squeeze(preds_tensor.numpy()) if not train_on_gpu else np.squeeze(preds_tensor.cpu().detach().numpy())\n",
    "preds = preds_tensor.cpu().detach().numpy()\n",
    "\n",
    "preds"
   ]
  },
  {
   "cell_type": "code",
   "execution_count": 39,
   "metadata": {
    "colab": {
     "base_uri": "https://localhost:8080/"
    },
    "id": "daNqGU5vt1Q8",
    "outputId": "b88d238c-f964-4889-922e-42fbc92adaad"
   },
   "outputs": [
    {
     "name": "stdout",
     "output_type": "stream",
     "text": [
      "character_5_kna character_5_kna\n",
      "character_7_chha character_7_chha\n",
      "character_4_gha character_4_gha\n",
      "character_5_kna character_5_kna\n",
      "digit_9 digit_9\n",
      "character_2_kha character_2_kha\n",
      "character_28_la character_28_la\n",
      "character_23_ba character_23_ba\n",
      "character_27_ra character_27_ra\n",
      "digit_7 digit_7\n",
      "character_10_yna character_10_yna\n",
      "character_13_daa character_5_kna\n",
      "character_19_dha character_19_dha\n",
      "character_26_yaw character_26_yaw\n",
      "character_36_gya character_36_gya\n",
      "digit_4 digit_4\n",
      "digit_8 digit_8\n",
      "character_33_ha character_33_ha\n",
      "digit_4 digit_4\n",
      "character_7_chha character_7_chha\n",
      "digit_2 digit_2\n",
      "character_2_kha character_2_kha\n",
      "character_11_taamatar character_11_taamatar\n",
      "character_29_waw character_29_waw\n",
      "digit_8 digit_8\n",
      "digit_2 digit_2\n",
      "character_5_kna character_5_kna\n",
      "character_1_ka character_1_ka\n",
      "character_33_ha character_33_ha\n",
      "character_29_waw character_29_waw\n",
      "character_23_ba character_33_ha\n",
      "character_33_ha character_33_ha\n",
      "30 2\n"
     ]
    }
   ],
   "source": [
    "yes = 0\n",
    "no = 0\n",
    "for i in range(len(preds)):\n",
    "    print(classes[preds[i]], classes[labels[i]])\n",
    "    if (classes[preds[i]] == classes[labels[i]]):\n",
    "        yes+=1\n",
    "    else:\n",
    "        no+=1\n",
    "\n",
    "print(yes,no)"
   ]
  }
 ],
 "metadata": {
  "accelerator": "GPU",
  "colab": {
   "collapsed_sections": [],
   "name": "Untitled0.ipynb",
   "provenance": []
  },
  "kernelspec": {
   "display_name": "Python 3",
   "language": "python",
   "name": "python3"
  },
  "language_info": {
   "codemirror_mode": {
    "name": "ipython",
    "version": 3
   },
   "file_extension": ".py",
   "mimetype": "text/x-python",
   "name": "python",
   "nbconvert_exporter": "python",
   "pygments_lexer": "ipython3",
   "version": "3.9.1"
  }
 },
 "nbformat": 4,
 "nbformat_minor": 4
}
